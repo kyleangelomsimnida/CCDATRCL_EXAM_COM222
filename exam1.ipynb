{
  "cells": [
    {
      "cell_type": "markdown",
      "metadata": {
        "id": "view-in-github",
        "colab_type": "text"
      },
      "source": [
        "<a href=\"https://colab.research.google.com/github/kyleangelomsimnida/CCDATRCL_EXAM_COM222/blob/main/exam1.ipynb\" target=\"_parent\"><img src=\"https://colab.research.google.com/assets/colab-badge.svg\" alt=\"Open In Colab\"/></a>"
      ]
    },
    {
      "cell_type": "markdown",
      "metadata": {
        "id": "yaz2B0KGFehP"
      },
      "source": [
        "# Midterm Exam 💛💙"
      ]
    },
    {
      "cell_type": "markdown",
      "metadata": {
        "id": "_DmK1ONEFehQ"
      },
      "source": [
        "**Instructions** ❗️❗️\n",
        "\n",
        "❌ Do not remove or modify the notebook **sections**, **subsections**, **exam questions** or **any text** in this python notebook\n",
        "\n",
        "✔️ Put your answer in the designated cells below each question"
      ]
    },
    {
      "cell_type": "markdown",
      "metadata": {
        "id": "TMCAXKWCFehR"
      },
      "source": [
        "## Search"
      ]
    },
    {
      "cell_type": "code",
      "execution_count": 1,
      "metadata": {
        "id": "Fy8nEBRRFehR"
      },
      "outputs": [],
      "source": [
        "def linearSearch(my_list, number):\n",
        "\n",
        "    index = 0\n",
        "\n",
        "    for i in my_list:\n",
        "\n",
        "        if my_list[index] == number:\n",
        "            return index\n",
        "\n",
        "        index = index + 1\n",
        "\n",
        "    return -1"
      ]
    },
    {
      "cell_type": "markdown",
      "metadata": {
        "id": "AjAevpueFehS"
      },
      "source": [
        "1. Using **linear search**, write a `findLargestIncrease()` function to find the largest increase in value between two adjacent numbers in your student number `(10 points)`\n",
        "\n",
        "    **Example:**\n",
        "\n",
        "    student_number = [2,0,2,2,6,2,5,1,9,3]\n",
        "\n",
        "    **Expected Output:**\n",
        "\n",
        "    findLargestIncrease(student_number)\n",
        "\n",
        "    Output: Between 1 and 9\n",
        "\n",
        "    **Explanation:**\n",
        "\n",
        "    From this student_number, the largest increase happened from number 1 to number 9"
      ]
    },
    {
      "cell_type": "code",
      "execution_count": 35,
      "metadata": {
        "id": "JE8nEfyJFehS",
        "outputId": "4bfc5a1d-fba7-4cf1-8129-49ddd5fc0497",
        "colab": {
          "base_uri": "https://localhost:8080/"
        }
      },
      "outputs": [
        {
          "output_type": "stream",
          "name": "stdout",
          "text": [
            "Output: Between 0 and 8\n"
          ]
        }
      ],
      "source": [
        "# put your answer here\n",
        "def findLargestIncrease(myStudent_number):\n",
        "    largest_increase = -1\n",
        "    start_index = 0\n",
        "\n",
        "    for end_index in range(1, len(myStudent_number)):\n",
        "        if myStudent_number[end_index] > myStudent_number[end_index - 1]:\n",
        "            increase = myStudent_number[end_index] - myStudent_number[start_index]\n",
        "\n",
        "            if increase > largest_increase:\n",
        "                largest_increase = increase\n",
        "                start_index = end_index - 1\n",
        "\n",
        "    if largest_increase == -1:\n",
        "        return \"Output: No increase found\"\n",
        "    else:\n",
        "        return f\"Output: Between {myStudent_number[start_index]} and {myStudent_number[start_index + 1]}\"\n",
        "\n",
        "myStudent_number = [2,0,2,2,1,0,8,1,2,0]\n",
        "findLargestIncrease(myStudent_number)\n",
        "\n",
        "print(findLargestIncrease(myStudent_number))"
      ]
    },
    {
      "cell_type": "markdown",
      "metadata": {
        "id": "nMyr1fNyFehS"
      },
      "source": [
        "2. Using **linear search**, write a `findLargestDecrease()` function to find the largest decrease in value between two adjacent numbers in your student number `(10 points)`\n",
        "\n",
        "    **Example:**\n",
        "\n",
        "    student_number = [2,0,2,2,6,2,5,1,9,3]\n",
        "\n",
        "    **Expected Output:**\n",
        "\n",
        "    findLargestDecrease(student_number)\n",
        "\n",
        "    Output: Between 9 and 3\n",
        "\n",
        "    **Explanation:**\n",
        "\n",
        "    From this student_number, the largest decrease happened from number 9 to number 3"
      ]
    },
    {
      "cell_type": "code",
      "execution_count": 36,
      "metadata": {
        "id": "bfMfQVbVFehS",
        "outputId": "52488a98-e359-4cd4-f521-fbf30f4bc21b",
        "colab": {
          "base_uri": "https://localhost:8080/"
        }
      },
      "outputs": [
        {
          "output_type": "stream",
          "name": "stdout",
          "text": [
            "Output: Between 8 and 0\n"
          ]
        }
      ],
      "source": [
        "# put your answer here\n",
        "def findLargestDecrease(myStudent_number):\n",
        "    largest_decrease = 0\n",
        "    start_index = 0\n",
        "    largest_decrease_start = 0\n",
        "\n",
        "    for end_index in range(1, len(myStudent_number)):\n",
        "        if myStudent_number[end_index] < myStudent_number[end_index - 1]:\n",
        "            decrease = myStudent_number[end_index - 1] - myStudent_number[end_index]\n",
        "\n",
        "            if decrease >= largest_decrease:\n",
        "                largest_decrease = decrease\n",
        "                largest_decrease_start = start_index\n",
        "\n",
        "            start_index = end_index\n",
        "\n",
        "    if largest_decrease == 0:\n",
        "        return \"Output: No decrease found\"\n",
        "    else:\n",
        "        return f\"Output: Between {myStudent_number[largest_decrease_start + 1]} and {myStudent_number[largest_decrease_start]}\"\n",
        "\n",
        "student_number = [2, 0, 2, 2, 1, 0, 8, 1, 2, 0]\n",
        "findLargestDecrease(myStudent_number)\n",
        "\n",
        "print(findLargestDecrease(myStudent_number))"
      ]
    },
    {
      "cell_type": "markdown",
      "metadata": {
        "id": "NtKSQn9QFehS"
      },
      "source": [
        "## Linked List"
      ]
    },
    {
      "cell_type": "code",
      "execution_count": 37,
      "metadata": {
        "id": "0HP5zyJcFehS"
      },
      "outputs": [],
      "source": [
        "class Node:\n",
        "\n",
        "    def __init__(self, data):\n",
        "        self.data = data\n",
        "        self.next = None  # null"
      ]
    },
    {
      "cell_type": "code",
      "execution_count": 38,
      "metadata": {
        "id": "A-8Uefe7FehS"
      },
      "outputs": [],
      "source": [
        "class LinkedList:\n",
        "\n",
        "    def __init__(self):\n",
        "        self.head = None\n",
        "\n",
        "    def traverse(self, node):\n",
        "        while node:\n",
        "            print(node.data, end=\" -> \")\n",
        "            node = node.next"
      ]
    },
    {
      "cell_type": "markdown",
      "metadata": {
        "id": "uPgIJJuSFehT"
      },
      "source": [
        "**Instructions** ❗️❗️\n",
        "\n",
        "Use the pre-defined linked list class/functions to create a linked list"
      ]
    },
    {
      "cell_type": "markdown",
      "metadata": {
        "id": "WIwpW7Q2FehT"
      },
      "source": [
        "1. Create a Singly linked list named **num_list** and print all of its elements. `(5 points)`\n",
        "\n",
        "- **num_list** should contain all digits of your student number.\n",
        "\n",
        "    **Expected Output:**\n",
        "\n",
        "    print(num_list)\n",
        "\n",
        "    [2, 0, 2, 2, 1, 2, 3, 4, 5, 6]"
      ]
    },
    {
      "cell_type": "code",
      "execution_count": 47,
      "metadata": {
        "id": "Lihv0JPiFehT",
        "outputId": "dc2285c9-ead0-4c8a-a065-cee01be2a130",
        "colab": {
          "base_uri": "https://localhost:8080/"
        }
      },
      "outputs": [
        {
          "output_type": "stream",
          "name": "stdout",
          "text": [
            "2 -> 0 -> 2 -> 2 -> 1 -> 0 -> 8 -> 1 -> 2 -> 0 -> \n",
            "[2, 0, 2, 2, 1, 0, 8, 1, 2, 0]\n"
          ]
        }
      ],
      "source": [
        "# put your answer here\n",
        "def linked_list_to_list(linked_list):\n",
        "    elements = []\n",
        "    current = linked_list.head\n",
        "    while current:\n",
        "        elements.append(current.data)\n",
        "        current = current.next\n",
        "    return elements\n",
        "\n",
        "num_list = LinkedList()\n",
        "num_list.head = Node(2)\n",
        "node_b = Node(0)\n",
        "node_c = Node(2)\n",
        "node_d = Node(2)\n",
        "node_e = Node(1)\n",
        "node_f = Node(0)\n",
        "node_g = Node(8)\n",
        "node_h = Node(1)\n",
        "node_i = Node(2)\n",
        "node_j = Node(0)\n",
        "\n",
        "num_list.head.next = node_b\n",
        "node_b.next = node_c\n",
        "node_c.next = node_d\n",
        "node_d.next = node_e\n",
        "node_e.next = node_f\n",
        "node_f.next = node_g\n",
        "node_g.next = node_h\n",
        "node_h.next = node_i\n",
        "node_i.next = node_j\n",
        "\n",
        "\n",
        "num_list.traverse(num_list.head)\n",
        "num_list_as_list = linked_list_to_list(num_list)\n",
        "\n",
        "print()\n",
        "print(num_list_as_list)"
      ]
    },
    {
      "cell_type": "markdown",
      "metadata": {
        "id": "dqA2UYrYFehT"
      },
      "source": [
        "2. Write a `hasPrime()` function to test whether a prime number is in the last six digits of **num_list**. `(5 points)`\n",
        "\n",
        "- If a prime number is in the last six digits of **num_list**, the method should return **true**\n",
        "\n",
        "- If a prime number is not in the last six digits of **num_list**, the method should return **false**\n",
        "\n",
        "    **Expected Output:**\n",
        "\n",
        "    hasPrime(num_list)\n",
        "\n",
        "    True"
      ]
    },
    {
      "cell_type": "code",
      "execution_count": 48,
      "metadata": {
        "id": "GYwsQNz5FehT",
        "outputId": "976b38e6-ef16-4b9e-ec35-77d9dd628511",
        "colab": {
          "base_uri": "https://localhost:8080/"
        }
      },
      "outputs": [
        {
          "output_type": "execute_result",
          "data": {
            "text/plain": [
              "True"
            ]
          },
          "metadata": {},
          "execution_count": 48
        }
      ],
      "source": [
        "# put your answer here\n",
        "def is_prime(number):\n",
        "    if number <= 1:\n",
        "        return False\n",
        "    if number <= 3:\n",
        "        return True\n",
        "    if number % 2 == 0 or number % 3 == 0:\n",
        "        return False\n",
        "    i = 5\n",
        "    while i * i <= number:\n",
        "        if number % i == 0 or number % (i + 2) == 0:\n",
        "            return False\n",
        "        i += 6\n",
        "    return True\n",
        "\n",
        "def hasPrime(num_list):\n",
        "    elements = linked_list_to_list(num_list)[4:]\n",
        "    for element in elements:\n",
        "        if is_prime(element):\n",
        "            return True\n",
        "    return False\n",
        "\n",
        "hasPrime(num_list)"
      ]
    },
    {
      "cell_type": "markdown",
      "metadata": {
        "id": "5Qb0BOiwFehT"
      },
      "source": [
        "3. Write a `removeZeroes()` function to remove all occurrences of zeroes in **num_list**. `(5 points)`\n",
        "\n",
        "- If a zero is in **num_list**, return **num_list**\n",
        "\n",
        "- If there are no zeroes in **num_list**, return **\"no zeros found\"**\n",
        "\n",
        "    **Expected Output:**\n",
        "\n",
        "    removeZeroes(num_list)\n",
        "\n",
        "    [2, 2, 1, 2, 3, 4, 5, 6]"
      ]
    },
    {
      "cell_type": "code",
      "execution_count": 50,
      "metadata": {
        "id": "k1vAHUYuFehT",
        "outputId": "937629d4-beb1-4a74-a09f-4d20f18589d9",
        "colab": {
          "base_uri": "https://localhost:8080/"
        }
      },
      "outputs": [
        {
          "output_type": "stream",
          "name": "stdout",
          "text": [
            "2 -> 2 -> 2 -> 1 -> 8 -> 1 -> 2 -> \n",
            "[2, 2, 2, 1, 8, 1, 2]\n"
          ]
        }
      ],
      "source": [
        "# put your answer here\n",
        "def removeZeroes(list):\n",
        "    current = list.head\n",
        "    prev = None\n",
        "\n",
        "    while current:\n",
        "        if current.data == 0:\n",
        "            if prev:\n",
        "                prev.next = current.next\n",
        "            else:\n",
        "                list.head = current.next\n",
        "        else:\n",
        "            prev = current\n",
        "        current = current.next\n",
        "\n",
        "    if linked_list_to_list(list):\n",
        "        return list\n",
        "    else:\n",
        "        return \"no zeros found\"\n",
        "\n",
        "num_list = removeZeroes(num_list)\n",
        "num_list.traverse(num_list.head)\n",
        "print()\n",
        "\n",
        "result_list = linked_list_to_list(removeZeroes(num_list))\n",
        "print(result_list)"
      ]
    },
    {
      "cell_type": "markdown",
      "metadata": {
        "id": "SKAlpglNFehT"
      },
      "source": [
        "4. Insert a dash symbol between the 4th and 5th digit in **num_list**. `(5 points)`\n",
        "\n",
        "    **Expected Output:**\n",
        "\n",
        "    print(num_list)\n",
        "\n",
        "    [2, 0, 2, 2, \"-\", 1, 2, 3, 4, 5, 6]"
      ]
    },
    {
      "cell_type": "code",
      "execution_count": 51,
      "metadata": {
        "id": "vF7fimZ-FehT",
        "outputId": "d5430446-5b92-4cb6-f6aa-7d15b5b2a959",
        "colab": {
          "base_uri": "https://localhost:8080/"
        }
      },
      "outputs": [
        {
          "output_type": "stream",
          "name": "stdout",
          "text": [
            "2 -> 0 -> 2 -> 2 -> - -> 1 -> 0 -> 8 -> 1 -> 2 -> 0 -> \n",
            "[2, 0, 2, 2, '-', 1, 0, 8, 1, 2, 0]\n"
          ]
        }
      ],
      "source": [
        "# put your answer here\n",
        "def linked_list_to_list(linked_list):\n",
        "    elements = []\n",
        "    current = linked_list.head\n",
        "    while current:\n",
        "        elements.append(current.data)\n",
        "        current = current.next\n",
        "    return elements\n",
        "\n",
        "def insertDash(list):\n",
        "    current = list.head\n",
        "    count = 1\n",
        "\n",
        "    while current:\n",
        "        if count == 4:\n",
        "            new_node = Node(\"-\")\n",
        "            new_node.next = current.next\n",
        "            current.next = new_node\n",
        "            break\n",
        "        current = current.next\n",
        "        count += 1\n",
        "\n",
        "num_list = LinkedList()\n",
        "num_list.head = Node(2)\n",
        "node_b = Node(0)\n",
        "node_c = Node(2)\n",
        "node_d = Node(2)\n",
        "node_e = Node(1)\n",
        "node_f = Node(0)\n",
        "node_g = Node(8)\n",
        "node_h = Node(1)\n",
        "node_i = Node(2)\n",
        "node_j = Node(0)\n",
        "\n",
        "num_list.head.next = node_b\n",
        "node_b.next = node_c\n",
        "node_c.next = node_d\n",
        "node_d.next = node_e\n",
        "node_e.next = node_f\n",
        "node_f.next = node_g\n",
        "node_g.next = node_h\n",
        "node_h.next = node_i\n",
        "node_i.next = node_j\n",
        "\n",
        "insertDash(num_list)\n",
        "num_list.traverse(num_list.head)\n",
        "print()\n",
        "\n",
        "result_list = linked_list_to_list(num_list)\n",
        "print(result_list)"
      ]
    },
    {
      "cell_type": "markdown",
      "metadata": {
        "id": "KkC-LgdxFehT"
      },
      "source": [
        "## Stack"
      ]
    },
    {
      "cell_type": "code",
      "execution_count": 52,
      "metadata": {
        "id": "UYTqB1u_FehU"
      },
      "outputs": [],
      "source": [
        "# Creating a stack\n",
        "def create_stack():\n",
        "    stack = []\n",
        "    return stack\n",
        "\n",
        "\n",
        "def print_stack(stack):\n",
        "\n",
        "    if (check_empty(stack)):\n",
        "        return \"stack is empty\"\n",
        "\n",
        "    # Create a copy of the stack and reverse the elements\n",
        "    tempStack = stack.copy()\n",
        "    tempStack.reverse()\n",
        "\n",
        "    # Print all elements using a loop\n",
        "    for i in tempStack:\n",
        "        print(i)\n",
        "\n",
        "    # Delete the copy to free up memory\n",
        "    del tempStack\n",
        "\n",
        "# Creating an empty stack\n",
        "\n",
        "\n",
        "def check_empty(stack):\n",
        "    return len(stack) == 0\n",
        "\n",
        "\n",
        "# Adding items into the stack\n",
        "def push(stack, item):\n",
        "    stack.append(item)\n",
        "    print(\"pushed item: \" + item)\n",
        "\n",
        "\n",
        "# Removing an element from the stack\n",
        "def pop(stack):\n",
        "    if (check_empty(stack)):\n",
        "        return \"stack is empty\"\n",
        "\n",
        "    return stack.pop()\n",
        "\n",
        "\n",
        "def peek(stack):\n",
        "\n",
        "    # Use negative indexing to display the last element of the list\n",
        "    print(stack[-1])"
      ]
    },
    {
      "cell_type": "markdown",
      "metadata": {
        "id": "wLAQchs8FehU"
      },
      "source": [
        "**Instructions** ❗️❗️\n",
        "\n",
        "Use the pre-defined stack class/functions to create a stack"
      ]
    },
    {
      "cell_type": "markdown",
      "metadata": {
        "id": "37cg9BoCFehU"
      },
      "source": [
        "1. Create two (2) stacks named **name_stack** and **num_stack** `(5 points)`\n",
        "\n",
        "- **name_stack** should contain all letters of your first name.\n",
        "- **num_stack** should contain all digits of your student number.\n",
        "\n",
        "    **Expected Output:**\n",
        "\n",
        "    print(name_stack)\n",
        "\n",
        "    ['E', 'L', 'I', 'Z', 'E', 'R']\n",
        "\n",
        "    print(num_stack)\n",
        "\n",
        "    [2,0,2,2,1,2,3,4,5,6]"
      ]
    },
    {
      "cell_type": "code",
      "execution_count": 53,
      "metadata": {
        "id": "HlUIUQzQFehU",
        "outputId": "221193e7-064a-4533-e50a-1e146842fd34",
        "colab": {
          "base_uri": "https://localhost:8080/"
        }
      },
      "outputs": [
        {
          "output_type": "stream",
          "name": "stdout",
          "text": [
            "pushed item: K\n",
            "pushed item: Y\n",
            "pushed item: L\n",
            "pushed item: E\n",
            "pushed item: 2\n",
            "pushed item: 0\n",
            "pushed item: 2\n",
            "pushed item: 2\n",
            "pushed item: 1\n",
            "pushed item: 0\n",
            "pushed item: 8\n",
            "pushed item: 1\n",
            "pushed item: 2\n",
            "pushed item: 0\n",
            "['K', 'Y', 'L', 'E']\n",
            "[2,0,2,2,1,0,8,1,2,0]\n"
          ]
        }
      ],
      "source": [
        "# put your answer here\n",
        "name_stack = create_stack()\n",
        "num_stack = create_stack()\n",
        "\n",
        "name = \"KYLE\"\n",
        "student_number = \"2022108120\"\n",
        "\n",
        "for letter in name:\n",
        "    push(name_stack, letter)\n",
        "\n",
        "for number in student_number:\n",
        "    push(num_stack, number)\n",
        "\n",
        "print(name_stack)\n",
        "print('[%s]' % ','.join(map(str, num_stack)))"
      ]
    },
    {
      "cell_type": "markdown",
      "metadata": {
        "id": "8cySe9LXFehU"
      },
      "source": [
        "2. Create a stack named **my_stack** that follows the following format: `(5 points)`\n",
        "\n",
        "- The first element should be the **5th digit in your student number**\n",
        "- The succeeding elements should be the letters of your **first name**\n",
        "- The last element should be the **last digit of your student number**\n",
        "\n",
        "    **Expected Output:**\n",
        "\n",
        "    my_stack = [1, E, L, I, Z, E, R, 6]"
      ]
    },
    {
      "cell_type": "code",
      "execution_count": 54,
      "metadata": {
        "id": "bEnCoAhjFehU",
        "outputId": "dc3ca952-3aac-4b1d-e450-4ad16b038576",
        "colab": {
          "base_uri": "https://localhost:8080/"
        }
      },
      "outputs": [
        {
          "output_type": "stream",
          "name": "stdout",
          "text": [
            "1\n",
            "pushed item: 1\n",
            "pushed item: K\n",
            "pushed item: Y\n",
            "pushed item: L\n",
            "pushed item: E\n",
            "pushed item: 0\n",
            "[1, K, Y, L, E, 0]\n"
          ]
        }
      ],
      "source": [
        "# put your answer here\n",
        "my_stack = create_stack()\n",
        "fifth_digit = student_number[5 - 1]\n",
        "print(fifth_digit)\n",
        "last_digit = student_number[len(student_number) - 1]\n",
        "\n",
        "push(my_stack, str(fifth_digit))\n",
        "\n",
        "for letter in name:\n",
        "    push(my_stack, letter)\n",
        "\n",
        "push(my_stack, str(last_digit))\n",
        "\n",
        "\n",
        "print('[%s]' % ', '.join(map(str, my_stack)))"
      ]
    },
    {
      "cell_type": "markdown",
      "metadata": {
        "id": "8a8_KP5nFehU"
      },
      "source": [
        "3. Write a `verifyStack()` function that will take in `my_stack` and check if its format has been followed `(10 points)`\n",
        "\n",
        "- Return **True** if the format has been followed\n",
        "- Return **False** if the format was not followed\n",
        "- Verify the format by checking the contents of **my_stack** with **name_stack** and **num_stack**\n",
        "\n",
        "    **Expected Output:**\n",
        "\n",
        "    my_stack = [1, E, L, I, Z, E, R, 6]\n",
        "\n",
        "    verifyStack(my_stack)\n",
        "\n",
        "    True\n",
        "\n",
        "    my_stack = [1, S, L, I, Z, E, R, 7]\n",
        "\n",
        "    verifyStack(my_stack)\n",
        "\n",
        "    False"
      ]
    },
    {
      "cell_type": "code",
      "execution_count": 55,
      "metadata": {
        "id": "RdANSxD0FehU",
        "outputId": "91a7a6a1-56f1-4803-9e29-0e3e875baa15",
        "colab": {
          "base_uri": "https://localhost:8080/"
        }
      },
      "outputs": [
        {
          "output_type": "stream",
          "name": "stdout",
          "text": [
            "pushed item: K\n",
            "pushed item: Y\n",
            "pushed item: L\n",
            "pushed item: E\n",
            "pushed item: E\n",
            "pushed item: L\n",
            "pushed item: Y\n",
            "pushed item: K\n",
            "True\n",
            "pushed item: K\n",
            "pushed item: Y\n",
            "pushed item: L\n",
            "pushed item: E\n",
            "pushed item: E\n",
            "pushed item: L\n",
            "pushed item: Y\n",
            "pushed item: K\n",
            "False\n"
          ]
        }
      ],
      "source": [
        "# put your answer here\n",
        "def verifyStack(stack):\n",
        "    new_name_stack = create_stack()\n",
        "    new_name = name\n",
        "    for letter in new_name:\n",
        "        push(new_name_stack, letter)\n",
        "\n",
        "    reversed_stack = []\n",
        "    while new_name_stack:\n",
        "        element = pop(new_name_stack)\n",
        "        push(reversed_stack, element)\n",
        "\n",
        "    copy_name_stack = name_stack.copy()\n",
        "    copy_reversed_stack = reversed_stack.copy()\n",
        "\n",
        "    if stack[0] != num_stack[4] or stack[len(stack) - 1] != num_stack[len(num_stack) - 1]:\n",
        "        return False\n",
        "\n",
        "    if stack[1] != copy_name_stack[0]:\n",
        "        return False\n",
        "\n",
        "    if stack[2:] == copy_reversed_stack: # https://www.geeksforgeeks.org/python-list-slicing/\n",
        "        return False\n",
        "\n",
        "    return True\n",
        "# Test cases\n",
        "my_stack1 = ['1', 'K', 'Y', 'L', 'E', '0']\n",
        "print(verifyStack(my_stack1)) # Too many outputs; the output is not displaying so I used print to show the return value\n",
        "\n",
        "my_stack2 = ['1', 'E', 'L', 'Y', 'K', '9']\n",
        "print(verifyStack(my_stack2))"
      ]
    },
    {
      "cell_type": "markdown",
      "metadata": {
        "id": "UC5C64B2FehU"
      },
      "source": [
        "## Queue"
      ]
    },
    {
      "cell_type": "code",
      "execution_count": 56,
      "metadata": {
        "id": "NJJ0j0LHFehU"
      },
      "outputs": [],
      "source": [
        "class Queue:\n",
        "    def __init__(self):\n",
        "        self.queue = []\n",
        "\n",
        "    # Add an element\n",
        "    def enqueue(self, item):\n",
        "        self.queue.append(item)\n",
        "\n",
        "    # Remove an element\n",
        "    def dequeue(self):\n",
        "        if len(self.queue) < 1:\n",
        "            return None\n",
        "        return self.queue.pop(0)\n",
        "\n",
        "    # Display  the queue\n",
        "    def display(self):\n",
        "        print(self.queue)\n",
        "\n",
        "    def size(self):\n",
        "        return len(self.queue)\n",
        "\n",
        "    def peek(self):\n",
        "        return self.queue[0]"
      ]
    },
    {
      "cell_type": "markdown",
      "metadata": {
        "id": "80OekpbeFehV"
      },
      "source": [
        "**Instructions** ❗️❗️\n",
        "\n",
        "Use the pre-defined queue class/functions to create a Queue"
      ]
    },
    {
      "cell_type": "markdown",
      "metadata": {
        "id": "_Hf0OP5cFehV"
      },
      "source": [
        "1. Create a simple queue named **num_queue** `(5 points)`\n",
        "\n",
        "- **num_queue** should contain all digits of your student number.\n",
        "\n",
        "    **Expected Output:**\n",
        "\n",
        "    print(num_queue)\n",
        "\n",
        "    [2,0,2,2,1,2,3,4,5,6]"
      ]
    },
    {
      "cell_type": "code",
      "execution_count": 57,
      "metadata": {
        "id": "_mgmE4ArFehV",
        "outputId": "729d2b95-bd6b-4e51-e4ca-7349f0d00d13",
        "colab": {
          "base_uri": "https://localhost:8080/"
        }
      },
      "outputs": [
        {
          "output_type": "stream",
          "name": "stdout",
          "text": [
            "[2, 0, 2, 2, 1, 0, 8, 1, 2, 0]\n"
          ]
        }
      ],
      "source": [
        "# put your answer here\n",
        "num_queue = Queue()\n",
        "\n",
        "num_queue.enqueue(2)\n",
        "num_queue.enqueue(0)\n",
        "num_queue.enqueue(2)\n",
        "num_queue.enqueue(2)\n",
        "num_queue.enqueue(1)\n",
        "num_queue.enqueue(0)\n",
        "num_queue.enqueue(8)\n",
        "num_queue.enqueue(1)\n",
        "num_queue.enqueue(2)\n",
        "num_queue.enqueue(0)\n",
        "\n",
        "num_queue.display()"
      ]
    },
    {
      "cell_type": "markdown",
      "metadata": {
        "id": "1pHG8t6DFehV"
      },
      "source": [
        "2. Write a `getMax()` or `getMin()` function for **num_queue** `(5 points)`\n",
        "\n",
        "- If your student number ends with an odd number, create a `getMax()` function that will return the largest number in **num_queue**\n",
        "- If your student number ends with an even number, create a `getMin()` function that will return the lowest number in **num_queue**\n",
        "\n",
        "    **Expected Output for getMax():**\n",
        "\n",
        "    getMax(num_queue)\n",
        "\n",
        "    6\n",
        "\n",
        "    **Expected Output for getMin():**\n",
        "\n",
        "    getMin(num_queue)\n",
        "\n",
        "    0"
      ]
    },
    {
      "cell_type": "code",
      "execution_count": 58,
      "metadata": {
        "id": "itj2U610FehV",
        "outputId": "f02df694-befe-4d06-efc4-100de231305a",
        "colab": {
          "base_uri": "https://localhost:8080/"
        }
      },
      "outputs": [
        {
          "output_type": "execute_result",
          "data": {
            "text/plain": [
              "8"
            ]
          },
          "metadata": {},
          "execution_count": 58
        }
      ],
      "source": [
        "# put your answer here\n",
        "def getMax(queue):\n",
        "    if queue.size() == 0:\n",
        "        return \"Queue is empty\"\n",
        "\n",
        "    max_num = queue.peek()\n",
        "\n",
        "    while queue.size() > 0:\n",
        "        item = queue.dequeue()\n",
        "        if item > max_num:\n",
        "            max_num = item\n",
        "\n",
        "    return max_num\n",
        "\n",
        "num_queue = Queue()\n",
        "\n",
        "num_queue.enqueue(2)\n",
        "num_queue.enqueue(0)\n",
        "num_queue.enqueue(2)\n",
        "num_queue.enqueue(2)\n",
        "num_queue.enqueue(1)\n",
        "num_queue.enqueue(0)\n",
        "num_queue.enqueue(8)\n",
        "num_queue.enqueue(1)\n",
        "num_queue.enqueue(2)\n",
        "num_queue.enqueue(0)\n",
        "\n",
        "getMax(num_queue)"
      ]
    },
    {
      "cell_type": "markdown",
      "metadata": {
        "id": "YkgmP6GwFehV"
      },
      "source": [
        "3. Write a `getOdd()` or `getEven()` function for  **num_queue** `(5 points)`\n",
        "\n",
        "- If your student number ends with an **odd number**, create a `getOdd()` function that will return all odd numbers in **num_queue**\n",
        "- If your student number ends with an **even number**, create a `getEven()` function that will return all even numbers in **num_queue**\n",
        "\n",
        "    **Expected Output for getOdd():**\n",
        "\n",
        "    getOdd(num_queue)\n",
        "\n",
        "    [1, 3, 5]\n",
        "\n",
        "    **Expected Output for getEven():**\n",
        "\n",
        "    getEven(num_queue)\n",
        "\n",
        "    [0, 2, 4, 6]"
      ]
    },
    {
      "cell_type": "code",
      "execution_count": 59,
      "metadata": {
        "id": "2Bc7E1zNFehV",
        "outputId": "a95e6f84-626f-40ca-ca92-1ae672c0a06b",
        "colab": {
          "base_uri": "https://localhost:8080/"
        }
      },
      "outputs": [
        {
          "output_type": "execute_result",
          "data": {
            "text/plain": [
              "[1, 1]"
            ]
          },
          "metadata": {},
          "execution_count": 59
        }
      ],
      "source": [
        "# put your answer here\n",
        "def getOdd(queue):\n",
        "    odd_numbers = []\n",
        "\n",
        "    while queue.size() > 0:\n",
        "        item = queue.dequeue()\n",
        "        if item % 2 == 1:\n",
        "            odd_numbers.append(item)\n",
        "\n",
        "    return odd_numbers\n",
        "\n",
        "num_queue = Queue()\n",
        "\n",
        "num_queue.enqueue(2)\n",
        "num_queue.enqueue(0)\n",
        "num_queue.enqueue(2)\n",
        "num_queue.enqueue(2)\n",
        "num_queue.enqueue(1)\n",
        "num_queue.enqueue(0)\n",
        "num_queue.enqueue(8)\n",
        "num_queue.enqueue(1)\n",
        "num_queue.enqueue(2)\n",
        "num_queue.enqueue(0)\n",
        "\n",
        "getOdd(num_queue)"
      ]
    },
    {
      "cell_type": "markdown",
      "metadata": {
        "id": "kuzWF5g4FehV"
      },
      "source": [
        "4. Write a `removeDup()` function that will remove all duplicates in **num_queue** `(5 points)`\n",
        "\n",
        "    **Expected Output:**\n",
        "\n",
        "    removeDup(num_queue)\n",
        "\n",
        "    [2,0,1,3,4,5,6]"
      ]
    },
    {
      "cell_type": "code",
      "execution_count": 60,
      "metadata": {
        "id": "I8LeQP8MFehY",
        "outputId": "6de5ac8d-9ed8-4fb1-b9d1-4b3b598cf907",
        "colab": {
          "base_uri": "https://localhost:8080/"
        }
      },
      "outputs": [
        {
          "output_type": "stream",
          "name": "stdout",
          "text": [
            "[2, 0, 1, 8]\n"
          ]
        }
      ],
      "source": [
        "# put your answer here\n",
        "def removeDup(queue):\n",
        "    sorted_list = set()\n",
        "    new_queue = Queue()\n",
        "\n",
        "    while queue.size() > 0:\n",
        "        element = queue.dequeue()\n",
        "        if element not in sorted_list:\n",
        "            sorted_list.add(element)\n",
        "            new_queue.enqueue(element)\n",
        "\n",
        "    queue.queue = new_queue.queue\n",
        "    queue.display()\n",
        "\n",
        "num_queue = Queue()\n",
        "\n",
        "num_queue.enqueue(2)\n",
        "num_queue.enqueue(0)\n",
        "num_queue.enqueue(2)\n",
        "num_queue.enqueue(2)\n",
        "num_queue.enqueue(1)\n",
        "num_queue.enqueue(0)\n",
        "num_queue.enqueue(8)\n",
        "num_queue.enqueue(1)\n",
        "num_queue.enqueue(2)\n",
        "num_queue.enqueue(0)\n",
        "\n",
        "removeDup(num_queue)"
      ]
    },
    {
      "cell_type": "markdown",
      "metadata": {
        "id": "LVfZTh8YFehZ"
      },
      "source": [
        "## Sort"
      ]
    },
    {
      "cell_type": "markdown",
      "metadata": {
        "id": "bm9lonfzFehZ"
      },
      "source": [
        "**Instructions** ❗️❗️\n",
        "\n",
        "Use the any sorting algoritms"
      ]
    },
    {
      "cell_type": "markdown",
      "metadata": {
        "id": "EJTlxhEdFehZ"
      },
      "source": [
        "1. Using any sorting algorithm, sort the **last 6 digits** of your student number in ascending order `(5 points)`\n",
        "\n",
        "    **Example:**\n",
        "\n",
        "    student_number = [2,0,2,2,6,2,5,1,3,4]\n",
        "\n",
        "    **Expected Output:**\n",
        "\n",
        "    print(student_number)\n",
        "\n",
        "    [2,0,2,2,1,2,3,4,5,6]\n"
      ]
    },
    {
      "cell_type": "code",
      "execution_count": 61,
      "metadata": {
        "id": "MkZKfveOFehZ",
        "outputId": "0c088012-ceb7-4f9c-d86e-8855f34bbb71",
        "colab": {
          "base_uri": "https://localhost:8080/"
        }
      },
      "outputs": [
        {
          "output_type": "stream",
          "name": "stdout",
          "text": [
            "[2, 0, 2, 2, 0, 0, 1, 1, 2, 8]\n"
          ]
        }
      ],
      "source": [
        "# put your answer here\n",
        "def bubbleSort(array):\n",
        "  for i in range(len(array)):\n",
        "\n",
        "    for j in range(0, len(array) - i - 1):\n",
        "\n",
        "      if array[j] > array[j + 1]:\n",
        "\n",
        "        temp = array[j]\n",
        "        array[j] = array[j+1]\n",
        "        array[j+1] = temp\n",
        "\n",
        "student_number = [2, 0, 2, 2, 1, 0, 8, 1, 2, 0]\n",
        "temp_list = student_number[4:]\n",
        "bubbleSort(temp_list)\n",
        "\n",
        "student_number[4:] = temp_list\n",
        "\n",
        "print(student_number)"
      ]
    },
    {
      "cell_type": "markdown",
      "metadata": {
        "id": "sC2JZRZMFehZ"
      },
      "source": [
        "2. Using your student_number, separately sort the even numbers in **increasing order** and the odd numbers in **decreasing order** `(15 points)`\n",
        "\n",
        "    **Example:**\n",
        "\n",
        "    student_number = [2,0,2,2,1,2,3,4,5,6]\n",
        "\n",
        "    **Expected Output:**\n",
        "\n",
        "    print(student_number)\n",
        "\n",
        "    [0,2,2,2,2,4,6,5,3,1]"
      ]
    },
    {
      "cell_type": "code",
      "execution_count": 63,
      "metadata": {
        "id": "hWOh_ohcFehZ",
        "outputId": "460b024d-e317-446c-90dc-af5c85485c78",
        "colab": {
          "base_uri": "https://localhost:8080/"
        }
      },
      "outputs": [
        {
          "output_type": "stream",
          "name": "stdout",
          "text": [
            "[0, 0, 0, 2, 2, 2, 2, 8, 1, 1]\n"
          ]
        }
      ],
      "source": [
        "# put your answer here\n",
        "def bubbleSort(array):\n",
        "    for i in range(len(array)):\n",
        "\n",
        "        for j in range(0, len(array) - i - 1):\n",
        "\n",
        "            if array[j] > array[j + 1]:\n",
        "\n",
        "                temp = array[j]\n",
        "                array[j] = array[j + 1]\n",
        "                array[j + 1] = temp\n",
        "\n",
        "student_number = [2, 0, 2, 2, 1, 0, 8, 1, 2, 0]\n",
        "\n",
        "even_numbers = []\n",
        "odd_numbers = []\n",
        "\n",
        "for number in student_number:\n",
        "    if number % 2 == 0:\n",
        "        even_numbers.append(number)\n",
        "    else:\n",
        "        odd_numbers.append(number)\n",
        "\n",
        "bubbleSort(even_numbers)\n",
        "bubbleSort(odd_numbers)\n",
        "\n",
        "student_number = even_numbers + odd_numbers\n",
        "\n",
        "print(student_number)"
      ]
    }
  ],
  "metadata": {
    "kernelspec": {
      "display_name": "Python 3",
      "language": "python",
      "name": "python3"
    },
    "language_info": {
      "codemirror_mode": {
        "name": "ipython",
        "version": 3
      },
      "file_extension": ".py",
      "mimetype": "text/x-python",
      "name": "python",
      "nbconvert_exporter": "python",
      "pygments_lexer": "ipython3",
      "version": "3.9.13"
    },
    "orig_nbformat": 4,
    "colab": {
      "provenance": [],
      "include_colab_link": true
    }
  },
  "nbformat": 4,
  "nbformat_minor": 0
}